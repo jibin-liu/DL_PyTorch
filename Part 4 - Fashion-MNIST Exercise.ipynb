{
 "cells": [
  {
   "cell_type": "markdown",
   "metadata": {},
   "source": [
    "# Classifying Fashion-MNIST\n",
    "\n",
    "Now it's your turn to build and train a neural network. You'll be using the [Fashion-MNIST dataset](https://github.com/zalandoresearch/fashion-mnist), a drop-in replacement for the MNIST dataset. MNIST is actually quite trivial with neural networks where you can easily achieve better than 97% accuracy. Fashion-MNIST is a set of 28x28 greyscale images of clothes. It's more complex than MNIST, so it's a better representation of the actual performance of your network, and a better representation of datasets you'll use in the real world.\n",
    "\n",
    "<img src='assets/fashion-mnist-sprite.png' width=500px>\n",
    "\n",
    "In this notebook, you'll build your own neural network. For the most part, you could just copy and paste the code from Part 3, but you wouldn't be learning. It's important for you to write the code yourself and get it to work. Feel free to consult the previous notebook though as you work through this.\n",
    "\n",
    "First off, let's load the dataset through torchvision."
   ]
  },
  {
   "cell_type": "code",
   "execution_count": 1,
   "metadata": {},
   "outputs": [
    {
     "name": "stdout",
     "output_type": "stream",
     "text": [
      "Downloading http://fashion-mnist.s3-website.eu-central-1.amazonaws.com/train-images-idx3-ubyte.gz\n",
      "Downloading http://fashion-mnist.s3-website.eu-central-1.amazonaws.com/train-labels-idx1-ubyte.gz\n",
      "Downloading http://fashion-mnist.s3-website.eu-central-1.amazonaws.com/t10k-images-idx3-ubyte.gz\n",
      "Downloading http://fashion-mnist.s3-website.eu-central-1.amazonaws.com/t10k-labels-idx1-ubyte.gz\n",
      "Processing...\n",
      "Done!\n"
     ]
    }
   ],
   "source": [
    "import torch\n",
    "from torchvision import datasets, transforms\n",
    "import helper\n",
    "\n",
    "# Define a transform to normalize the data\n",
    "transform = transforms.Compose([transforms.ToTensor(),\n",
    "                                transforms.Normalize((0.5, 0.5, 0.5), (0.5, 0.5, 0.5))])\n",
    "# Download and load the training data\n",
    "trainset = datasets.FashionMNIST('F_MNIST_data/', download=True, train=True, transform=transform)\n",
    "trainloader = torch.utils.data.DataLoader(trainset, batch_size=64, shuffle=True)\n",
    "\n",
    "# Download and load the test data\n",
    "testset = datasets.FashionMNIST('F_MNIST_data/', download=True, train=False, transform=transform)\n",
    "testloader = torch.utils.data.DataLoader(testset, batch_size=64, shuffle=True)"
   ]
  },
  {
   "cell_type": "markdown",
   "metadata": {},
   "source": [
    "Here we can see one of the images."
   ]
  },
  {
   "cell_type": "code",
   "execution_count": 2,
   "metadata": {},
   "outputs": [
    {
     "data": {
      "image/png": "[encoded data removed]",
      "text/plain": [
       "<Figure size 432x288 with 1 Axes>"
      ]
     },
     "metadata": {
      "needs_background": "light"
     },
     "output_type": "display_data"
    }
   ],
   "source": [
    "image, label = next(iter(trainloader))\n",
    "helper.imshow(image[0,:]);"
   ]
  },
  {
   "cell_type": "markdown",
   "metadata": {},
   "source": [
    "With the data loaded, it's time to import the necessary packages."
   ]
  },
  {
   "cell_type": "code",
   "execution_count": 3,
   "metadata": {},
   "outputs": [],
   "source": [
    "%matplotlib inline\n",
    "%config InlineBackend.figure_format = 'retina'\n",
    "\n",
    "import matplotlib.pyplot as plt\n",
    "import numpy as np\n",
    "import time\n",
    "\n",
    "import torch\n",
    "from torch import nn\n",
    "from torch import optim\n",
    "import torch.nn.functional as F\n",
    "from torchvision import datasets, transforms\n",
    "\n",
    "import helper"
   ]
  },
  {
   "cell_type": "markdown",
   "metadata": {},
   "source": [
    "## Building the network\n",
    "\n",
    "Here you should define your network. As with MNIST, each image is 28x28 which is a total of 784 pixels, and there are 10 classes. You should include at least one hidden layer. We suggest you use ReLU activations for the layers and to return the logits from the forward pass. It's up to you how many layers you add and the size of those layers."
   ]
  },
  {
   "cell_type": "code",
   "execution_count": 24,
   "metadata": {},
   "outputs": [
    {
     "data": {
      "text/plain": [
       "Sequential(\n",
       "  (0): Linear(in_features=784, out_features=256, bias=True)\n",
       "  (1): ReLU()\n",
       "  (2): Linear(in_features=256, out_features=128, bias=True)\n",
       "  (3): ReLU()\n",
       "  (4): Linear(in_features=128, out_features=64, bias=True)\n",
       "  (5): ReLU()\n",
       "  (6): Linear(in_features=64, out_features=10, bias=True)\n",
       ")"
      ]
     },
     "execution_count": 24,
     "metadata": {},
     "output_type": "execute_result"
    }
   ],
   "source": [
    "# TODO: Define your network architecture here\n",
    "input_size = 784\n",
    "hidden_sizes = [256, 128, 64]\n",
    "output_size = 10\n",
    "\n",
    "model = nn.Sequential(\n",
    "    nn.Linear(in_features=input_size, out_features=hidden_sizes[0]),\n",
    "    nn.ReLU(),\n",
    "    nn.Linear(in_features=hidden_sizes[0], out_features=hidden_sizes[1]),\n",
    "    nn.ReLU(),\n",
    "    nn.Linear(in_features=hidden_sizes[1], out_features=hidden_sizes[2]),\n",
    "    nn.ReLU(),\n",
    "    nn.Linear(in_features=hidden_sizes[2], out_features=output_size),\n",
    ")\n",
    "\n",
    "model.cuda()\n",
    "model"
   ]
  },
  {
   "cell_type": "code",
   "execution_count": 25,
   "metadata": {},
   "outputs": [
    {
     "data": {
      "text/plain": [
       "True"
      ]
     },
     "execution_count": 25,
     "metadata": {},
     "output_type": "execute_result"
    }
   ],
   "source": [
    "next(model.parameters()).is_cuda"
   ]
  },
  {
   "cell_type": "markdown",
   "metadata": {},
   "source": [
    "# Train the network\n",
    "\n",
    "Now you should create your network and train it. First you'll want to define [the criterion](http://pytorch.org/docs/master/nn.html#loss-functions) ( something like `nn.CrossEntropyLoss`) and [the optimizer](http://pytorch.org/docs/master/optim.html) (typically `optim.SGD` or `optim.Adam`).\n",
    "\n",
    "Then write the training code. Remember the training pass is a fairly straightforward process:\n",
    "\n",
    "* Make a forward pass through the network to get the logits \n",
    "* Use the logits to calculate the loss\n",
    "* Perform a backward pass through the network with `loss.backward()` to calculate the gradients\n",
    "* Take a step with the optimizer to update the weights\n",
    "\n",
    "By adjusting the hyperparameters (hidden units, learning rate, etc), you should be able to get the training loss below 0.4."
   ]
  },
  {
   "cell_type": "code",
   "execution_count": 26,
   "metadata": {},
   "outputs": [],
   "source": [
    "# TODO: Create the network, define the criterion and optimizer\n",
    "lr = 0.01\n",
    "criterion = nn.CrossEntropyLoss()\n",
    "optimizer = optim.SGD(model.parameters(), lr=lr)"
   ]
  },
  {
   "cell_type": "code",
   "execution_count": 28,
   "metadata": {},
   "outputs": [
    {
     "name": "stdout",
     "output_type": "stream",
     "text": [
      "Epoch: 1/10 |  Loss: 2.2941\n",
      "Epoch: 1/10 |  Loss: 2.2715\n",
      "Epoch: 1/10 |  Loss: 2.2390\n",
      "Epoch: 1/10 |  Loss: 2.1937\n",
      "Epoch: 1/10 |  Loss: 2.1260\n",
      "Epoch: 1/10 |  Loss: 2.0164\n",
      "Epoch: 1/10 |  Loss: 1.8565\n",
      "Epoch: 1/10 |  Loss: 1.6477\n",
      "Epoch: 1/10 |  Loss: 1.4545\n",
      "Epoch: 1/10 |  Loss: 1.2950\n",
      "Epoch: 1/10 |  Loss: 1.1615\n",
      "Epoch: 1/10 |  Loss: 1.0690\n",
      "Epoch: 1/10 |  Loss: 1.0053\n",
      "Epoch: 1/10 |  Loss: 0.9482\n",
      "Epoch: 1/10 |  Loss: 0.8838\n",
      "Epoch: 1/10 |  Loss: 0.8728\n",
      "Epoch: 1/10 |  Loss: 0.8578\n",
      "Epoch: 1/10 |  Loss: 0.8094\n",
      "Epoch: 1/10 |  Loss: 0.7693\n",
      "Epoch: 1/10 |  Loss: 0.7441\n",
      "Epoch: 1/10 |  Loss: 0.7599\n",
      "Epoch: 1/10 |  Loss: 0.7196\n",
      "Epoch: 1/10 |  Loss: 0.6955\n",
      "Epoch: 2/10 |  Loss: 0.3664\n",
      "Epoch: 2/10 |  Loss: 0.6861\n",
      "Epoch: 2/10 |  Loss: 0.6962\n",
      "Epoch: 2/10 |  Loss: 0.6694\n",
      "Epoch: 2/10 |  Loss: 0.6926\n",
      "Epoch: 2/10 |  Loss: 0.6757\n",
      "Epoch: 2/10 |  Loss: 0.6367\n",
      "Epoch: 2/10 |  Loss: 0.6380\n",
      "Epoch: 2/10 |  Loss: 0.6340\n",
      "Epoch: 2/10 |  Loss: 0.6122\n",
      "Epoch: 2/10 |  Loss: 0.6446\n",
      "Epoch: 2/10 |  Loss: 0.6021\n",
      "Epoch: 2/10 |  Loss: 0.6145\n",
      "Epoch: 2/10 |  Loss: 0.6066\n",
      "Epoch: 2/10 |  Loss: 0.6296\n",
      "Epoch: 2/10 |  Loss: 0.5539\n",
      "Epoch: 2/10 |  Loss: 0.5542\n",
      "Epoch: 2/10 |  Loss: 0.5731\n",
      "Epoch: 2/10 |  Loss: 0.5681\n",
      "Epoch: 2/10 |  Loss: 0.5578\n",
      "Epoch: 2/10 |  Loss: 0.5645\n",
      "Epoch: 2/10 |  Loss: 0.5727\n",
      "Epoch: 2/10 |  Loss: 0.5614\n",
      "Epoch: 3/10 |  Loss: 0.0437\n",
      "Epoch: 3/10 |  Loss: 0.5625\n",
      "Epoch: 3/10 |  Loss: 0.5460\n",
      "Epoch: 3/10 |  Loss: 0.5596\n",
      "Epoch: 3/10 |  Loss: 0.5715\n",
      "Epoch: 3/10 |  Loss: 0.5186\n",
      "Epoch: 3/10 |  Loss: 0.5540\n",
      "Epoch: 3/10 |  Loss: 0.5684\n",
      "Epoch: 3/10 |  Loss: 0.5466\n",
      "Epoch: 3/10 |  Loss: 0.5207\n",
      "Epoch: 3/10 |  Loss: 0.5299\n",
      "Epoch: 3/10 |  Loss: 0.5220\n",
      "Epoch: 3/10 |  Loss: 0.4995\n",
      "Epoch: 3/10 |  Loss: 0.5223\n",
      "Epoch: 3/10 |  Loss: 0.5095\n",
      "Epoch: 3/10 |  Loss: 0.4837\n",
      "Epoch: 3/10 |  Loss: 0.5068\n",
      "Epoch: 3/10 |  Loss: 0.4888\n",
      "Epoch: 3/10 |  Loss: 0.5083\n",
      "Epoch: 3/10 |  Loss: 0.4768\n",
      "Epoch: 3/10 |  Loss: 0.4929\n",
      "Epoch: 3/10 |  Loss: 0.4784\n",
      "Epoch: 3/10 |  Loss: 0.4703\n",
      "Epoch: 3/10 |  Loss: 0.4784\n",
      "Epoch: 4/10 |  Loss: 0.3167\n",
      "Epoch: 4/10 |  Loss: 0.4742\n",
      "Epoch: 4/10 |  Loss: 0.4680\n",
      "Epoch: 4/10 |  Loss: 0.4968\n",
      "Epoch: 4/10 |  Loss: 0.4950\n",
      "Epoch: 4/10 |  Loss: 0.4810\n",
      "Epoch: 4/10 |  Loss: 0.4659\n",
      "Epoch: 4/10 |  Loss: 0.4836\n",
      "Epoch: 4/10 |  Loss: 0.4531\n",
      "Epoch: 4/10 |  Loss: 0.4719\n",
      "Epoch: 4/10 |  Loss: 0.4810\n",
      "Epoch: 4/10 |  Loss: 0.4573\n",
      "Epoch: 4/10 |  Loss: 0.4693\n",
      "Epoch: 4/10 |  Loss: 0.4674\n",
      "Epoch: 4/10 |  Loss: 0.5060\n",
      "Epoch: 4/10 |  Loss: 0.4769\n",
      "Epoch: 4/10 |  Loss: 0.4627\n",
      "Epoch: 4/10 |  Loss: 0.4533\n",
      "Epoch: 4/10 |  Loss: 0.4431\n",
      "Epoch: 4/10 |  Loss: 0.4469\n",
      "Epoch: 4/10 |  Loss: 0.4798\n",
      "Epoch: 4/10 |  Loss: 0.4650\n",
      "Epoch: 4/10 |  Loss: 0.4669\n",
      "Epoch: 5/10 |  Loss: 0.0931\n",
      "Epoch: 5/10 |  Loss: 0.4736\n",
      "Epoch: 5/10 |  Loss: 0.4660\n",
      "Epoch: 5/10 |  Loss: 0.4315\n",
      "Epoch: 5/10 |  Loss: 0.4423\n",
      "Epoch: 5/10 |  Loss: 0.4245\n",
      "Epoch: 5/10 |  Loss: 0.4675\n",
      "Epoch: 5/10 |  Loss: 0.4168\n",
      "Epoch: 5/10 |  Loss: 0.4234\n",
      "Epoch: 5/10 |  Loss: 0.4282\n",
      "Epoch: 5/10 |  Loss: 0.4329\n",
      "Epoch: 5/10 |  Loss: 0.4261\n",
      "Epoch: 5/10 |  Loss: 0.4473\n",
      "Epoch: 5/10 |  Loss: 0.4395\n",
      "Epoch: 5/10 |  Loss: 0.4432\n",
      "Epoch: 5/10 |  Loss: 0.4277\n",
      "Epoch: 5/10 |  Loss: 0.4628\n",
      "Epoch: 5/10 |  Loss: 0.4490\n",
      "Epoch: 5/10 |  Loss: 0.4604\n",
      "Epoch: 5/10 |  Loss: 0.4702\n",
      "Epoch: 5/10 |  Loss: 0.4220\n",
      "Epoch: 5/10 |  Loss: 0.4510\n",
      "Epoch: 5/10 |  Loss: 0.4370\n",
      "Epoch: 5/10 |  Loss: 0.4347\n",
      "Epoch: 6/10 |  Loss: 0.3232\n",
      "Epoch: 6/10 |  Loss: 0.4214\n",
      "Epoch: 6/10 |  Loss: 0.4543\n",
      "Epoch: 6/10 |  Loss: 0.4270\n",
      "Epoch: 6/10 |  Loss: 0.4188\n",
      "Epoch: 6/10 |  Loss: 0.4267\n",
      "Epoch: 6/10 |  Loss: 0.4540\n",
      "Epoch: 6/10 |  Loss: 0.4099\n",
      "Epoch: 6/10 |  Loss: 0.4221\n",
      "Epoch: 6/10 |  Loss: 0.4203\n",
      "Epoch: 6/10 |  Loss: 0.4266\n",
      "Epoch: 6/10 |  Loss: 0.4216\n",
      "Epoch: 6/10 |  Loss: 0.4112\n",
      "Epoch: 6/10 |  Loss: 0.4251\n",
      "Epoch: 6/10 |  Loss: 0.4337\n",
      "Epoch: 6/10 |  Loss: 0.4329\n",
      "Epoch: 6/10 |  Loss: 0.4194\n",
      "Epoch: 6/10 |  Loss: 0.4190\n",
      "Epoch: 6/10 |  Loss: 0.3964\n",
      "Epoch: 6/10 |  Loss: 0.3844\n",
      "Epoch: 6/10 |  Loss: 0.3895\n",
      "Epoch: 6/10 |  Loss: 0.3996\n",
      "Epoch: 6/10 |  Loss: 0.4166\n",
      "Epoch: 7/10 |  Loss: 0.1229\n",
      "Epoch: 7/10 |  Loss: 0.3774\n",
      "Epoch: 7/10 |  Loss: 0.3951\n",
      "Epoch: 7/10 |  Loss: 0.4251\n",
      "Epoch: 7/10 |  Loss: 0.3829\n",
      "Epoch: 7/10 |  Loss: 0.4340\n",
      "Epoch: 7/10 |  Loss: 0.4102\n",
      "Epoch: 7/10 |  Loss: 0.4103\n",
      "Epoch: 7/10 |  Loss: 0.4232\n",
      "Epoch: 7/10 |  Loss: 0.3960\n",
      "Epoch: 7/10 |  Loss: 0.4090\n",
      "Epoch: 7/10 |  Loss: 0.3737\n",
      "Epoch: 7/10 |  Loss: 0.4079\n",
      "Epoch: 7/10 |  Loss: 0.4024\n",
      "Epoch: 7/10 |  Loss: 0.4000\n",
      "Epoch: 7/10 |  Loss: 0.4181\n",
      "Epoch: 7/10 |  Loss: 0.3833\n",
      "Epoch: 7/10 |  Loss: 0.3838\n",
      "Epoch: 7/10 |  Loss: 0.4254\n",
      "Epoch: 7/10 |  Loss: 0.4138\n",
      "Epoch: 7/10 |  Loss: 0.4099\n",
      "Epoch: 7/10 |  Loss: 0.4005\n",
      "Epoch: 7/10 |  Loss: 0.4363\n",
      "Epoch: 7/10 |  Loss: 0.3956\n",
      "Epoch: 8/10 |  Loss: 0.3505\n",
      "Epoch: 8/10 |  Loss: 0.4216\n",
      "Epoch: 8/10 |  Loss: 0.4125\n",
      "Epoch: 8/10 |  Loss: 0.3736\n",
      "Epoch: 8/10 |  Loss: 0.3908\n",
      "Epoch: 8/10 |  Loss: 0.3498\n",
      "Epoch: 8/10 |  Loss: 0.3424\n",
      "Epoch: 8/10 |  Loss: 0.3858\n",
      "Epoch: 8/10 |  Loss: 0.4123\n",
      "Epoch: 8/10 |  Loss: 0.3935\n",
      "Epoch: 8/10 |  Loss: 0.3858\n",
      "Epoch: 8/10 |  Loss: 0.3883\n",
      "Epoch: 8/10 |  Loss: 0.4107\n",
      "Epoch: 8/10 |  Loss: 0.4102\n",
      "Epoch: 8/10 |  Loss: 0.3596\n",
      "Epoch: 8/10 |  Loss: 0.4026\n",
      "Epoch: 8/10 |  Loss: 0.4020\n",
      "Epoch: 8/10 |  Loss: 0.3980\n",
      "Epoch: 8/10 |  Loss: 0.3807\n",
      "Epoch: 8/10 |  Loss: 0.3616\n",
      "Epoch: 8/10 |  Loss: 0.3793\n",
      "Epoch: 8/10 |  Loss: 0.3793\n",
      "Epoch: 8/10 |  Loss: 0.4098\n",
      "Epoch: 9/10 |  Loss: 0.1547\n",
      "Epoch: 9/10 |  Loss: 0.3780\n",
      "Epoch: 9/10 |  Loss: 0.3930\n",
      "Epoch: 9/10 |  Loss: 0.3749\n",
      "Epoch: 9/10 |  Loss: 0.3791\n",
      "Epoch: 9/10 |  Loss: 0.3648\n",
      "Epoch: 9/10 |  Loss: 0.3936\n",
      "Epoch: 9/10 |  Loss: 0.3953\n",
      "Epoch: 9/10 |  Loss: 0.3900\n",
      "Epoch: 9/10 |  Loss: 0.3620\n",
      "Epoch: 9/10 |  Loss: 0.3686\n",
      "Epoch: 9/10 |  Loss: 0.3776\n",
      "Epoch: 9/10 |  Loss: 0.3754\n",
      "Epoch: 9/10 |  Loss: 0.3802\n",
      "Epoch: 9/10 |  Loss: 0.3650\n",
      "Epoch: 9/10 |  Loss: 0.3496\n",
      "Epoch: 9/10 |  Loss: 0.3611\n",
      "Epoch: 9/10 |  Loss: 0.3724\n",
      "Epoch: 9/10 |  Loss: 0.3887\n",
      "Epoch: 9/10 |  Loss: 0.3767\n",
      "Epoch: 9/10 |  Loss: 0.3728\n",
      "Epoch: 9/10 |  Loss: 0.3640\n",
      "Epoch: 9/10 |  Loss: 0.3963\n",
      "Epoch: 9/10 |  Loss: 0.3869\n",
      "Epoch: 10/10 |  Loss: 0.3326\n",
      "Epoch: 10/10 |  Loss: 0.3800\n",
      "Epoch: 10/10 |  Loss: 0.3534\n",
      "Epoch: 10/10 |  Loss: 0.3737\n",
      "Epoch: 10/10 |  Loss: 0.3885\n",
      "Epoch: 10/10 |  Loss: 0.3633\n",
      "Epoch: 10/10 |  Loss: 0.3643\n",
      "Epoch: 10/10 |  Loss: 0.3622\n",
      "Epoch: 10/10 |  Loss: 0.3556\n",
      "Epoch: 10/10 |  Loss: 0.3587\n",
      "Epoch: 10/10 |  Loss: 0.3509\n",
      "Epoch: 10/10 |  Loss: 0.3731\n",
      "Epoch: 10/10 |  Loss: 0.3857\n",
      "Epoch: 10/10 |  Loss: 0.3739\n",
      "Epoch: 10/10 |  Loss: 0.3776\n",
      "Epoch: 10/10 |  Loss: 0.3731\n",
      "Epoch: 10/10 |  Loss: 0.3427\n",
      "Epoch: 10/10 |  Loss: 0.3763\n",
      "Epoch: 10/10 |  Loss: 0.3521\n",
      "Epoch: 10/10 |  Loss: 0.3673\n",
      "Epoch: 10/10 |  Loss: 0.3613\n",
      "Epoch: 10/10 |  Loss: 0.3607\n",
      "Epoch: 10/10 |  Loss: 0.3706\n"
     ]
    }
   ],
   "source": [
    "# TODO: Train the network here\n",
    "epochs = 10\n",
    "print_steps = 40\n",
    "step = 0\n",
    "\n",
    "for e in range(epochs):\n",
    "    running_loss = 0\n",
    "    \n",
    "    for images, labels in trainloader:\n",
    "        step += 1\n",
    "        \n",
    "        # resize input to vector\n",
    "        images.resize_(images.shape[0], input_size)\n",
    "        \n",
    "        # forward pass\n",
    "        optimizer.zero_grad()\n",
    "        output = model.forward(images.cuda())\n",
    "        \n",
    "        # calculate loss\n",
    "        loss = criterion(output, labels.cuda())\n",
    "        \n",
    "        # calculate gradients\n",
    "        loss.backward()\n",
    "        \n",
    "        # update weights\n",
    "        optimizer.step()\n",
    "        \n",
    "        # logs\n",
    "        running_loss += loss.item()\n",
    "        if step % print_steps == 0:\n",
    "            print(\n",
    "                \"Epoch: {}/{} | \".format(e+1, epochs),\n",
    "                \"Loss: {:.4f}\".format(running_loss / print_steps)\n",
    "            )\n",
    "            running_loss = 0"
   ]
  },
  {
   "cell_type": "code",
   "execution_count": 38,
   "metadata": {},
   "outputs": [
    {
     "data": {
      "image/png": "[encoded data removed]",
      "text/plain": [
       "<Figure size 432x648 with 2 Axes>"
      ]
     },
     "metadata": {
      "image/png": {
       "height": 206,
       "width": 423
      },
      "needs_background": "light"
     },
     "output_type": "display_data"
    }
   ],
   "source": [
    "# Test out your network!\n",
    "\n",
    "dataiter = iter(testloader)\n",
    "images, labels = dataiter.next()\n",
    "img = images[0]\n",
    "# Convert 2D image to 1D vector\n",
    "img = img.resize_(1, 784)\n",
    "\n",
    "# TODO: Calculate the class probabilities (softmax) for img\n",
    "with torch.no_grad():\n",
    "    logits = model.forward(img.cuda())\n",
    "\n",
    "ps = F.softmax(logits, dim=1).cpu()\n",
    "\n",
    "# Plot the image and probabilities\n",
    "helper.view_classify(img.resize_(1, 28, 28), ps, version='Fashion')"
   ]
  },
  {
   "cell_type": "markdown",
   "metadata": {},
   "source": [
    "Now that your network is trained, you'll want to save it to disk so you can load it later instead of training it again. Obviously, it's impractical to train a network every time you need one. In practice, you'll train it once, save the model, then reload it for further training or making predictions. In the next part, I'll show you how to save and load trained models."
   ]
  }
 ],
 "metadata": {
  "kernelspec": {
   "display_name": "Python 3",
   "language": "python",
   "name": "python3"
  },
  "language_info": {
   "codemirror_mode": {
    "name": "ipython",
    "version": 3
   },
   "file_extension": ".py",
   "mimetype": "text/x-python",
   "name": "python",
   "nbconvert_exporter": "python",
   "pygments_lexer": "ipython3",
   "version": "3.7.1"
  }
 },
 "nbformat": 4,
 "nbformat_minor": 2
}
