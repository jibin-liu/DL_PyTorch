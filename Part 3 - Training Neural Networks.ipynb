{
 "cells": [
  {
   "cell_type": "markdown",
   "metadata": {},
   "source": [
    "# Training Neural Networks\n",
    "\n",
    "The network we built in the previous part isn't so smart, it doesn't know anything about our handwritten digits. Neural networks with non-linear activations work like universal function approximators. There is some function that maps your input to the output. For example, images of handwritten digits to class probabilities. The power of neural networks is that we can train them to approximate this function, and basically any function given enough data and compute time.\n",
    "\n",
    "<img src=\"assets/function_approx.png\" width=500px>\n",
    "\n",
    "At first the network is naive, it doesn't know the function mapping the inputs to the outputs. We train the network by showing it examples of real data, then adjusting the network parameters such that it approximates this function.\n",
    "\n",
    "To find these parameters, we need to know how poorly the network is predicting the real outputs. For this we calculate a **loss function** (also called the cost), a measure of our prediction error. For example, the mean squared loss is often used in regression and binary classification problems\n",
    "\n",
    "$$\n",
    "\\ell = \\frac{1}{2n}\\sum_i^n{\\left(y_i - \\hat{y}_i\\right)^2}\n",
    "$$\n",
    "\n",
    "where $n$ is the number of training examples, $y_i$ are the true labels, and $\\hat{y}_i$ are the predicted labels.\n",
    "\n",
    "By minimizing this loss with respect to the network parameters, we can find configurations where the loss is at a minimum and the network is able to predict the correct labels with high accuracy. We find this minimum using a process called **gradient descent**. The gradient is the slope of the loss function and points in the direction of fastest change. To get to the minimum in the least amount of time, we then want to follow the gradient (downwards). You can think of this like descending a mountain by following the steepest slope to the base.\n",
    "\n",
    "<img src='assets/gradient_descent.png' width=350px>"
   ]
  },
  {
   "cell_type": "markdown",
   "metadata": {},
   "source": [
    "## Backpropagation\n",
    "\n",
    "For single layer networks, gradient descent is simple to implement. However, it's more complicated for deeper, multilayer neural networks like the one we've built. Complicated enough that it took about 30 years before researchers figured out how to train multilayer networks, although it's straightforward once you learn about it. \n",
    "\n",
    "This is done through **backpropagation** which is really just an application of the chain rule from calculus. It's easiest to understand if we convert a two layer network into a graph representation.\n",
    "\n",
    "<img src='assets/w1_backprop_graph.png' width=400px>\n",
    "\n",
    "In the forward pass through the network, our data and operations go from right to left here. To train the weights with gradient descent, we propagate the gradient of the cost backwards through the network. Mathematically, this is really just calculating the gradient of the loss with respect to the weights using the chain rule.\n",
    "\n",
    "$$\n",
    "\\frac{\\partial \\ell}{\\partial w_1} = \\frac{\\partial l_1}{\\partial w_1} \\frac{\\partial s}{\\partial l_1} \\frac{\\partial l_2}{\\partial s} \\frac{\\partial \\ell}{\\partial l_2}\n",
    "$$\n",
    "\n",
    "We update our weights using this gradient with some learning rate $\\alpha$. \n",
    "\n",
    "$$\n",
    "w^\\prime = w - \\alpha \\frac{\\partial \\ell}{\\partial w}\n",
    "$$\n",
    "\n",
    "The learning rate is set such that the weight update steps are small enough that the iterative method settles in a minimum.\n",
    "\n",
    "The first thing we need to do for training is define our loss function. In PyTorch, you'll usually see this as `criterion`. Here we're using softmax output, so we want to use `criterion = nn.CrossEntropyLoss()` as our loss. Later when training, you use `loss = criterion(output, targets)` to calculate the actual loss.\n",
    "\n",
    "We also need to define the optimizer we're using, SGD or Adam, or something along those lines. Here I'll just use SGD with `torch.optim.SGD`, passing in the network parameters and the learning rate."
   ]
  },
  {
   "cell_type": "markdown",
   "metadata": {},
   "source": [
    "## Autograd\n",
    "\n",
    "Torch provides a module, `autograd`, for automatically calculating the gradient of tensors. It does this by keeping track of operations performed on tensors. To make sure PyTorch keeps track of operations on a tensor and calculates the gradients, you need to set `requires_grad` on a tensor. You can do this at creation with the `requires_grad` keyword, or at any time with `x.requires_grad_(True)`.\n",
    "\n",
    "You can turn off gradients for a block of code with the `torch.no_grad()` content:\n",
    "```python\n",
    "x = torch.zeros(1, requires_grad=True)\n",
    ">>> with torch.no_grad():\n",
    "...     y = x * 2\n",
    ">>> y.requires_grad\n",
    "False\n",
    "```\n",
    "\n",
    "Also, you can turn on or off gradients altogether with `torch.set_grad_enabled(True|False)`.\n",
    "\n",
    "The gradients are computed with respect to some variable `z` with `z.backward()`. This does a backward pass through the operations that created `z`."
   ]
  },
  {
   "cell_type": "code",
   "execution_count": 1,
   "metadata": {},
   "outputs": [],
   "source": [
    "%matplotlib inline\n",
    "%config InlineBackend.figure_format = 'retina'\n",
    "\n",
    "from collections import OrderedDict\n",
    "\n",
    "import numpy as np\n",
    "import time\n",
    "\n",
    "import torch\n",
    "from torch import nn\n",
    "from torch import optim\n",
    "import torch.nn.functional as F\n",
    "\n",
    "import helper"
   ]
  },
  {
   "cell_type": "code",
   "execution_count": 2,
   "metadata": {},
   "outputs": [
    {
     "name": "stdout",
     "output_type": "stream",
     "text": [
      "tensor([[ 0.8764,  0.5465],\n",
      "        [ 0.4097,  0.5930]])\n"
     ]
    }
   ],
   "source": [
    "x = torch.rand(2, 2, requires_grad=True)\n",
    "print(x)"
   ]
  },
  {
   "cell_type": "code",
   "execution_count": 3,
   "metadata": {},
   "outputs": [
    {
     "name": "stdout",
     "output_type": "stream",
     "text": [
      "tensor([[ 0.7681,  0.2987],\n",
      "        [ 0.1678,  0.3517]])\n"
     ]
    }
   ],
   "source": [
    "y = x ** 2\n",
    "print(y)"
   ]
  },
  {
   "cell_type": "markdown",
   "metadata": {},
   "source": [
    "Below we can see the operation that created `y`, a power operation `PowBackward0`."
   ]
  },
  {
   "cell_type": "code",
   "execution_count": 4,
   "metadata": {},
   "outputs": [
    {
     "name": "stdout",
     "output_type": "stream",
     "text": [
      "<PowBackward0 object at 0x7fbecd4fe9b0>\n"
     ]
    }
   ],
   "source": [
    "## grad_fn shows the function that generated this variable\n",
    "print(y.grad_fn)"
   ]
  },
  {
   "cell_type": "markdown",
   "metadata": {},
   "source": [
    "The autgrad module keeps track of these operations and knows how to calculate the gradient for each one. In this way, it's able to calculate the gradients for a chain of operations, with respect to any one tensor. Let's reduce the tensor `y` to a scalar value, the mean."
   ]
  },
  {
   "cell_type": "code",
   "execution_count": 5,
   "metadata": {},
   "outputs": [
    {
     "data": {
      "text/plain": [
       "tensor(0.3966)"
      ]
     },
     "execution_count": 5,
     "metadata": {},
     "output_type": "execute_result"
    }
   ],
   "source": [
    "z = y.mean()\n",
    "z"
   ]
  },
  {
   "cell_type": "code",
   "execution_count": 7,
   "metadata": {},
   "outputs": [
    {
     "data": {
      "text/plain": [
       "<MeanBackward1 at 0x7fbecd4fe978>"
      ]
     },
     "execution_count": 7,
     "metadata": {},
     "output_type": "execute_result"
    }
   ],
   "source": [
    "z.grad_fn"
   ]
  },
  {
   "cell_type": "markdown",
   "metadata": {},
   "source": [
    "You can check the gradients for `x` and `y` but they are empty currently."
   ]
  },
  {
   "cell_type": "code",
   "execution_count": 6,
   "metadata": {},
   "outputs": [],
   "source": [
    "x.grad"
   ]
  },
  {
   "cell_type": "markdown",
   "metadata": {},
   "source": [
    "To calculate the gradients, you need to run the `.backward` method on a Variable, `z` for example. This will calculate the gradient for `z` with respect to `x`\n",
    "\n",
    "$$\n",
    "\\frac{\\partial z}{\\partial x} = \\frac{\\partial}{\\partial x}\\left[\\frac{1}{n}\\sum_i^n x_i^2\\right] = \\frac{x}{2}\n",
    "$$"
   ]
  },
  {
   "cell_type": "code",
   "execution_count": 8,
   "metadata": {},
   "outputs": [
    {
     "name": "stdout",
     "output_type": "stream",
     "text": [
      "tensor([[ 0.4382,  0.2733],\n",
      "        [ 0.2048,  0.2965]])\n",
      "tensor([[ 0.4382,  0.2733],\n",
      "        [ 0.2048,  0.2965]])\n"
     ]
    }
   ],
   "source": [
    "z.backward()\n",
    "print(x.grad)\n",
    "print(x / 2)"
   ]
  },
  {
   "cell_type": "markdown",
   "metadata": {},
   "source": [
    "These gradients calculations are particularly useful for neural networks. For training we need the gradients of the weights with respect to the cost. With PyTorch, we run data forward through the network to calculate the cost, then, go backwards to calculate the gradients with respect to the cost. Once we have the gradients we can make a gradient descent step. "
   ]
  },
  {
   "cell_type": "markdown",
   "metadata": {},
   "source": [
    "## Get the data and define the network\n",
    "\n",
    "The same as we saw in part 3, we'll load the MNIST dataset and define our network."
   ]
  },
  {
   "cell_type": "code",
   "execution_count": 9,
   "metadata": {},
   "outputs": [],
   "source": [
    "from torchvision import datasets, transforms\n",
    "\n",
    "# Define a transform to normalize the data\n",
    "transform = transforms.Compose([transforms.ToTensor(),\n",
    "                              transforms.Normalize((0.5, 0.5, 0.5), (0.5, 0.5, 0.5)),\n",
    "                             ])\n",
    "# Download and load the training data\n",
    "trainset = datasets.MNIST('MNIST_data/', download=True, train=True, transform=transform)\n",
    "trainloader = torch.utils.data.DataLoader(trainset, batch_size=64, shuffle=True)"
   ]
  },
  {
   "cell_type": "markdown",
   "metadata": {},
   "source": [
    "I'll build a network with `nn.Sequential` here. Only difference from the last part is I'm not actually using softmax on the output, but instead just using the raw output from the last layer. This is because the output from softmax is a probability distribution. Often, the output will have values really close to zero or really close to one. Due to [inaccuracies with representing numbers as floating points](https://docs.python.org/3/tutorial/floatingpoint.html), computations with a softmax output can lose accuracy and become unstable. To get around this, we'll use the raw output, called the **logits**, to calculate the loss."
   ]
  },
  {
   "cell_type": "code",
   "execution_count": 10,
   "metadata": {},
   "outputs": [],
   "source": [
    "# Hyperparameters for our network\n",
    "input_size = 784\n",
    "hidden_sizes = [128, 64]\n",
    "output_size = 10\n",
    "\n",
    "# Build a feed-forward network\n",
    "model = nn.Sequential(OrderedDict([\n",
    "                      ('fc1', nn.Linear(input_size, hidden_sizes[0])),\n",
    "                      ('relu1', nn.ReLU()),\n",
    "                      ('fc2', nn.Linear(hidden_sizes[0], hidden_sizes[1])),\n",
    "                      ('relu2', nn.ReLU()),\n",
    "                      ('logits', nn.Linear(hidden_sizes[1], output_size))]))"
   ]
  },
  {
   "cell_type": "markdown",
   "metadata": {},
   "source": [
    "## Training the network!\n",
    "\n",
    "The first thing we need to do for training is define our loss function. In PyTorch, you'll usually see this as `criterion`. Here we're using softmax output, so we want to use `criterion = nn.CrossEntropyLoss()` as our loss. Later when training, you use `loss = criterion(output, targets)` to calculate the actual loss.\n",
    "\n",
    "We also need to define the optimizer we're using, SGD or Adam, or something along those lines. Here I'll just use SGD with `torch.optim.SGD`, passing in the network parameters and the learning rate."
   ]
  },
  {
   "cell_type": "code",
   "execution_count": 12,
   "metadata": {},
   "outputs": [],
   "source": [
    "criterion = nn.CrossEntropyLoss()\n",
    "optimizer = optim.SGD(model.parameters(), lr=0.01)"
   ]
  },
  {
   "cell_type": "markdown",
   "metadata": {},
   "source": [
    "First, let's consider just one learning step before looping through all the data. The general process with PyTorch:\n",
    "\n",
    "* Make a forward pass through the network to get the logits \n",
    "* Use the logits to calculate the loss\n",
    "* Perform a backward pass through the network with `loss.backward()` to calculate the gradients\n",
    "* Take a step with the optimizer to update the weights\n",
    "\n",
    "Below I'll go through one training step and print out the weights and gradients so you can see how it changes."
   ]
  },
  {
   "cell_type": "code",
   "execution_count": 16,
   "metadata": {},
   "outputs": [
    {
     "name": "stdout",
     "output_type": "stream",
     "text": [
      "Before Parameter containing:\n",
      "tensor(1.00000e-02 *\n",
      "       [[ 0.6700,  3.2123,  1.1334,  ..., -0.1283,  3.3898, -0.3243],\n",
      "        [ 3.4736, -1.4724, -2.7497,  ...,  1.9334, -1.2430, -3.0341],\n",
      "        [-0.3671,  0.0736, -0.0629,  ..., -0.5716,  1.9757, -3.3988],\n",
      "        ...,\n",
      "        [ 1.7816, -1.8719,  0.4279,  ...,  3.3400, -3.3492,  3.0003],\n",
      "        [ 0.1712,  1.4787,  3.4106,  ..., -2.2692, -3.2686, -2.4950],\n",
      "        [-1.9131,  1.4438, -1.1563,  ..., -2.2530, -0.8015, -2.7597]])\n",
      "Gradients:  tensor(1.00000e-02 *\n",
      "       [[-0.3305, -0.3305, -0.3305,  ..., -0.3305, -0.3305, -0.3305],\n",
      "        [ 0.0619,  0.0619,  0.0619,  ...,  0.0619,  0.0619,  0.0619],\n",
      "        [-0.2589, -0.2589, -0.2589,  ..., -0.2589, -0.2589, -0.2589],\n",
      "        ...,\n",
      "        [-0.1316, -0.1316, -0.1316,  ..., -0.1316, -0.1316, -0.1316],\n",
      "        [ 0.0215,  0.0215,  0.0215,  ...,  0.0215,  0.0215,  0.0215],\n",
      "        [ 0.0000,  0.0000,  0.0000,  ...,  0.0000,  0.0000,  0.0000]])\n"
     ]
    }
   ],
   "source": [
    "print(\"Before\", model.fc1.weight)\n",
    "\n",
    "images, labels = next(iter(trainloader))\n",
    "images.resize_(64, 784)\n",
    "\n",
    "optimizer.zero_grad()\n",
    "\n",
    "# Forward pass\n",
    "output = model.forward(images)\n",
    "loss = criterion(output, labels)\n",
    "loss.backward()  # this is to calculate the gradients but not update the actual weights/bias yet\n",
    "print(\"Gradients: \", model.fc1.weight.grad)\n",
    "optimizer.step()  # this will update the weights"
   ]
  },
  {
   "cell_type": "code",
   "execution_count": 17,
   "metadata": {},
   "outputs": [
    {
     "name": "stdout",
     "output_type": "stream",
     "text": [
      "Updated weights -  Parameter containing:\n",
      "tensor([[ 6.7333e-03,  3.2156e-02,  1.1367e-02,  ..., -1.2499e-03,\n",
      "          3.3931e-02, -3.2099e-03],\n",
      "        [ 3.4730e-02, -1.4730e-02, -2.7503e-02,  ...,  1.9327e-02,\n",
      "         -1.2437e-02, -3.0347e-02],\n",
      "        [-3.6454e-03,  7.6190e-04, -6.0279e-04,  ..., -5.6896e-03,\n",
      "          1.9783e-02, -3.3962e-02],\n",
      "        ...,\n",
      "        [ 1.7829e-02, -1.8706e-02,  4.2921e-03,  ...,  3.3413e-02,\n",
      "         -3.3479e-02,  3.0016e-02],\n",
      "        [ 1.7101e-03,  1.4785e-02,  3.4104e-02,  ..., -2.2694e-02,\n",
      "         -3.2688e-02, -2.4952e-02],\n",
      "        [-1.9131e-02,  1.4438e-02, -1.1563e-02,  ..., -2.2530e-02,\n",
      "         -8.0152e-03, -2.7597e-02]])\n"
     ]
    }
   ],
   "source": [
    "print('Updated weights - ', model.fc1.weight)"
   ]
  },
  {
   "cell_type": "markdown",
   "metadata": {},
   "source": [
    "### Training for real\n",
    "\n",
    "Now we'll put this algorithm into a loop so we can go through all the images. This is fairly straightforward. We'll loop through the mini-batches in our dataset, pass the data through the network to calculate the losses, get the gradients, then run the optimizer."
   ]
  },
  {
   "cell_type": "code",
   "execution_count": 18,
   "metadata": {},
   "outputs": [
    {
     "name": "stdout",
     "output_type": "stream",
     "text": [
      "Epoch: 1/3 Loss: 2.2607\n",
      "Epoch: 1/3 Loss: 2.1664\n",
      "Epoch: 1/3 Loss: 2.0416\n",
      "Epoch: 1/3 Loss: 1.8630\n",
      "Epoch: 1/3 Loss: 1.6816\n",
      "Epoch: 1/3 Loss: 1.4453\n",
      "Epoch: 1/3 Loss: 1.2532\n",
      "Epoch: 1/3 Loss: 1.0957\n",
      "Epoch: 1/3 Loss: 0.9710\n",
      "Epoch: 1/3 Loss: 0.8637\n",
      "Epoch: 1/3 Loss: 0.7817\n",
      "Epoch: 1/3 Loss: 0.7152\n",
      "Epoch: 1/3 Loss: 0.6643\n",
      "Epoch: 1/3 Loss: 0.6195\n",
      "Epoch: 1/3 Loss: 0.5922\n",
      "Epoch: 1/3 Loss: 0.5744\n",
      "Epoch: 1/3 Loss: 0.5593\n",
      "Epoch: 1/3 Loss: 0.5245\n",
      "Epoch: 1/3 Loss: 0.5216\n",
      "Epoch: 1/3 Loss: 0.5067\n",
      "Epoch: 1/3 Loss: 0.4583\n",
      "Epoch: 1/3 Loss: 0.4707\n",
      "Epoch: 1/3 Loss: 0.4684\n",
      "Epoch: 2/3 Loss: 0.2375\n",
      "Epoch: 2/3 Loss: 0.4731\n",
      "Epoch: 2/3 Loss: 0.4056\n",
      "Epoch: 2/3 Loss: 0.4565\n",
      "Epoch: 2/3 Loss: 0.4257\n",
      "Epoch: 2/3 Loss: 0.4204\n",
      "Epoch: 2/3 Loss: 0.4358\n",
      "Epoch: 2/3 Loss: 0.3942\n",
      "Epoch: 2/3 Loss: 0.3853\n",
      "Epoch: 2/3 Loss: 0.4220\n",
      "Epoch: 2/3 Loss: 0.3725\n",
      "Epoch: 2/3 Loss: 0.4074\n",
      "Epoch: 2/3 Loss: 0.3651\n",
      "Epoch: 2/3 Loss: 0.3694\n",
      "Epoch: 2/3 Loss: 0.3872\n",
      "Epoch: 2/3 Loss: 0.3955\n",
      "Epoch: 2/3 Loss: 0.3778\n",
      "Epoch: 2/3 Loss: 0.3320\n",
      "Epoch: 2/3 Loss: 0.3448\n",
      "Epoch: 2/3 Loss: 0.3559\n",
      "Epoch: 2/3 Loss: 0.3520\n",
      "Epoch: 2/3 Loss: 0.3545\n",
      "Epoch: 2/3 Loss: 0.3550\n",
      "Epoch: 3/3 Loss: 0.0346\n",
      "Epoch: 3/3 Loss: 0.3393\n",
      "Epoch: 3/3 Loss: 0.3329\n",
      "Epoch: 3/3 Loss: 0.3451\n",
      "Epoch: 3/3 Loss: 0.3484\n",
      "Epoch: 3/3 Loss: 0.3424\n",
      "Epoch: 3/3 Loss: 0.3237\n",
      "Epoch: 3/3 Loss: 0.3242\n",
      "Epoch: 3/3 Loss: 0.3281\n",
      "Epoch: 3/3 Loss: 0.3415\n",
      "Epoch: 3/3 Loss: 0.3646\n",
      "Epoch: 3/3 Loss: 0.3376\n",
      "Epoch: 3/3 Loss: 0.3194\n",
      "Epoch: 3/3 Loss: 0.3362\n",
      "Epoch: 3/3 Loss: 0.2980\n",
      "Epoch: 3/3 Loss: 0.3104\n",
      "Epoch: 3/3 Loss: 0.3148\n",
      "Epoch: 3/3 Loss: 0.3295\n",
      "Epoch: 3/3 Loss: 0.3079\n",
      "Epoch: 3/3 Loss: 0.3075\n",
      "Epoch: 3/3 Loss: 0.3149\n",
      "Epoch: 3/3 Loss: 0.3324\n",
      "Epoch: 3/3 Loss: 0.2814\n",
      "Epoch: 3/3 Loss: 0.3171\n"
     ]
    }
   ],
   "source": [
    "epochs = 3\n",
    "print_every = 40\n",
    "steps = 0\n",
    "\n",
    "for e in range(epochs):\n",
    "    running_loss = 0  # track the loss\n",
    "    for images, labels in trainloader:\n",
    "        steps += 1\n",
    "        images.resize_(images.shape[0], 784)\n",
    "        \n",
    "        optimizer.zero_grad()\n",
    "        \n",
    "        output = model.forward(images)\n",
    "        loss = criterion(output, labels)\n",
    "        loss.backward()\n",
    "        optimizer.step()\n",
    "        \n",
    "        running_loss += loss.item()  # to get the value of a scalar tensor\n",
    "        \n",
    "        if steps % print_every == 0:\n",
    "            print(\n",
    "                \"Epoch: {}/{}\".format(e + 1, epochs),\n",
    "                \"Loss: {:.4f}\".format(running_loss/print_every)\n",
    "            )\n",
    "            running_loss = 0"
   ]
  },
  {
   "cell_type": "markdown",
   "metadata": {},
   "source": [
    "With the network trained, we can check out it's predictions."
   ]
  },
  {
   "cell_type": "code",
   "execution_count": 23,
   "metadata": {},
   "outputs": [
    {
     "data": {
      "image/png": "[encoded data removed]",
      "text/plain": [
       "<matplotlib.figure.Figure at 0x7fbe7e585cf8>"
      ]
     },
     "metadata": {
      "image/png": {
       "height": 224,
       "width": 423
      },
      "needs_background": "light"
     },
     "output_type": "display_data"
    }
   ],
   "source": [
    "images, labels = next(iter(trainloader))\n",
    "\n",
    "images.resize_(1, 784)\n",
    "\n",
    "# turn off gradients to speed up forward pass\n",
    "with torch.no_grad():\n",
    "    logits = model.forward(images)\n",
    "    \n",
    "probabilities = F.softmax(logits, dim=1)\n",
    "helper.view_classify(images.view(1, 28, 28), probabilities)"
   ]
  },
  {
   "cell_type": "markdown",
   "metadata": {},
   "source": [
    "Now our network is brilliant. It can accurately predict the digits in our images. Next up you'll write the code for training a neural network on a more complex dataset."
   ]
  }
 ],
 "metadata": {
  "kernelspec": {
   "display_name": "Python 3",
   "language": "python",
   "name": "python3"
  },
  "language_info": {
   "codemirror_mode": {
    "name": "ipython",
    "version": 3
   },
   "file_extension": ".py",
   "mimetype": "text/x-python",
   "name": "python",
   "nbconvert_exporter": "python",
   "pygments_lexer": "ipython3",
   "version": "3.6.3"
  }
 },
 "nbformat": 4,
 "nbformat_minor": 2
}
